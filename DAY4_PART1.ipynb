{
 "cells": [
  {
   "cell_type": "markdown",
   "metadata": {},
   "source": [
    "# #4 Object Oriented Programming and File I/O Part-1"
   ]
  },
  {
   "cell_type": "markdown",
   "metadata": {},
   "source": [
    "# Object Oriented Programming"
   ]
  },
  {
   "cell_type": "markdown",
   "metadata": {},
   "source": [
    "## Classes"
   ]
  },
  {
   "cell_type": "markdown",
   "metadata": {},
   "source": [
    "### Creating a class"
   ]
  },
  {
   "cell_type": "code",
   "execution_count": 1,
   "metadata": {},
   "outputs": [
    {
     "name": "stdout",
     "output_type": "stream",
     "text": [
      "<class '__main__.Example'>\n"
     ]
    }
   ],
   "source": [
    "#Object Oriented Programming (OOP) is a programming paradigm that allows abstraction through the concept of interacting entities.\n",
    "\n",
    "#The class is a blueprint that defines the nature of a future object.\n",
    "\n",
    "#The following python syntax defines a class:\n",
    "#      class ClassName(base_classes):\n",
    "#          statements\n",
    "\n",
    "class Example:\n",
    "    pass\n",
    "\n",
    "result = Example()\n",
    "\n",
    "print(type(result))"
   ]
  },
  {
   "cell_type": "code",
   "execution_count": 2,
   "metadata": {},
   "outputs": [
    {
     "name": "stdout",
     "output_type": "stream",
     "text": [
      "<class '__main__.Person'>\n",
      "Kono Suba was born in 1998.\n"
     ]
    }
   ],
   "source": [
    "class Person():\n",
    "    pass\n",
    "\n",
    "Leo = Person()\n",
    "Leo.name = \"Kono\"\n",
    "Leo.surname = \"Suba\"\n",
    "Leo.year_of_birth = 1998\n",
    "\n",
    "\n",
    "print(type(Leo))\n",
    "print(\"%s %s was born in %d.\" %\n",
    "      (Leo.name, Leo.surname, Leo.year_of_birth))\n",
    "\n",
    "# This isn't a recommended style because classes should describe homogeneous entities. "
   ]
  },
  {
   "cell_type": "code",
   "execution_count": 3,
   "metadata": {},
   "outputs": [],
   "source": [
    "#A way to do so is the following:\n",
    "\n",
    "class Person:\n",
    "    def __init__(self, name, surname, year_of_birth):\n",
    "        self.name = name\n",
    "        self.surname = surname\n",
    "        self.year_of_birth = year_of_birth"
   ]
  },
  {
   "cell_type": "raw",
   "metadata": {},
   "source": [
    " __init__(self, ...) Is a special Python method that is automatically called after an object construction. "
   ]
  },
  {
   "cell_type": "code",
   "execution_count": 4,
   "metadata": {},
   "outputs": [
    {
     "name": "stdout",
     "output_type": "stream",
     "text": [
      "<class '__main__.Person'>\n",
      "Kono Suba was born in 1998\n"
     ]
    }
   ],
   "source": [
    "Leo = Person(\"Kono\", \"Suba\", 1998)\n",
    "print(type(Leo))\n",
    "print(\"%s %s was born in %d\"% (Leo.name,Leo.surname,Leo.year_of_birth))"
   ]
  },
  {
   "cell_type": "markdown",
   "metadata": {},
   "source": [
    "### Methods"
   ]
  },
  {
   "cell_type": "code",
   "execution_count": 5,
   "metadata": {},
   "outputs": [],
   "source": [
    "#A method is an operation we can perform with the object.\n",
    "\n",
    "# age and __str__ are two methods used\n",
    "\n",
    "class Person:\n",
    "    def __init__(self, name, surname, year_of_birth):\n",
    "        self.name = name\n",
    "        self.surname = surname\n",
    "        self.year_of_birth = year_of_birth\n",
    "    \n",
    "    def age(self, current_year):\n",
    "        return current_year - self.year_of_birth\n",
    "    \n",
    "    def __str__(self):\n",
    "        return \"%s %s was born in %d.\"%  (self.name, self.surname, self.year_of_birth)"
   ]
  },
  {
   "cell_type": "code",
   "execution_count": 6,
   "metadata": {},
   "outputs": [
    {
     "name": "stdout",
     "output_type": "stream",
     "text": [
      "Kono Suba was born in 1998.\n",
      "His age is 22\n"
     ]
    }
   ],
   "source": [
    "Leo = Person(\"Kono\", \"Suba\", 1998)\n",
    "print(Leo)\n",
    "age = Leo.age(2020)\n",
    "print('His age is {}'.format(age))"
   ]
  },
  {
   "cell_type": "markdown",
   "metadata": {},
   "source": [
    "## Inheritance"
   ]
  },
  {
   "cell_type": "code",
   "execution_count": 7,
   "metadata": {},
   "outputs": [
    {
     "name": "stdout",
     "output_type": "stream",
     "text": [
      "James Bond was born in 1920.\n",
      "<class '__main__.Detective'>\n",
      "True\n",
      "True\n"
     ]
    }
   ],
   "source": [
    "#Inheritance is a way to form new classes using classes that have already been defined.\n",
    "\n",
    "#super(Class, instance) is a function that returns a proxy-object that delegates method calls to a parent or sibling class of type.\n",
    "\n",
    "class Detective(Person):\n",
    "    def __init__(self, phone_number, *args, **kwargs):\n",
    "        super(Detective, self).__init__(*args, **kwargs)\n",
    "        self.phone_number = phone_number\n",
    "        \n",
    "Agent = Detective(9876543210, 'James', 'Bond', 1920)\n",
    "print(Agent)\n",
    "print(type(Agent))\n",
    "print(isinstance(Agent, Person))\n",
    "print(isinstance(Agent, object))"
   ]
  },
  {
   "cell_type": "markdown",
   "metadata": {},
   "source": [
    "### Overriding methods"
   ]
  },
  {
   "cell_type": "code",
   "execution_count": 8,
   "metadata": {},
   "outputs": [
    {
     "name": "stdout",
     "output_type": "stream",
     "text": [
      "James Bond was born in 1920. Helpline number: 9876543210\n"
     ]
    }
   ],
   "source": [
    "#nheritance allows to add new methods to a subclass but often is useful to change the behavior of a method defined in the superclass.\n",
    "\n",
    "class Detective(Person):\n",
    "    def __init__(self, phone_number, *args, **kwargs):\n",
    "        super(Detective, self).__init__(*args, **kwargs)\n",
    "        self.phone_number = phone_number\n",
    "        \n",
    "    def __str__(self):\n",
    "        return super(Detective, self).__str__() + \" Helpline number: %d\" % self.phone_number\n",
    "        \n",
    "Agent = Detective(9876543210, 'James', 'Bond', 1920)\n",
    "print(Agent)"
   ]
  },
  {
   "cell_type": "markdown",
   "metadata": {},
   "source": [
    "## Encapsulation\n",
    "powerful way to extend a class which consists on wrapping an object with a second one"
   ]
  },
  {
   "cell_type": "markdown",
   "metadata": {},
   "source": [
    "There are two main reasons to use encapsulation:\n",
    "\n",
    "* Composition\n",
    "* Dynamic Extension"
   ]
  },
  {
   "cell_type": "markdown",
   "metadata": {},
   "source": [
    "### Composition"
   ]
  },
  {
   "cell_type": "markdown",
   "metadata": {},
   "source": [
    "The abstraction process relies on creating a simplified model that remove useless details from a concept. In order to be simplified, a model should be described in terms of other simpler concepts."
   ]
  },
  {
   "cell_type": "markdown",
   "metadata": {},
   "source": [
    "## Polymorphism and DuckTyping"
   ]
  },
  {
   "cell_type": "code",
   "execution_count": 9,
   "metadata": {},
   "outputs": [
    {
     "name": "stdout",
     "output_type": "stream",
     "text": [
      "10\n",
      "['G', 'A', 'M', 'E', '-', 'O', 'N']\n",
      "Hakuna Matata\n"
     ]
    }
   ],
   "source": [
    "#Python uses dynamic typing which is also called as duck typing. If an object implements a method you can use it, irrespective of the type.\n",
    "\n",
    "#Polymorphism is the ability to use the same syntax for objects of different types.\n",
    "\n",
    "def bonding(x, y):\n",
    "    return x + y\n",
    "\n",
    "print(bonding(4, 6))\n",
    "print(bonding([\"G\", \"A\", \"M\", \"E\"], [\"-\", \"O\", \"N\"]))\n",
    "print(bonding(\"Hakuna \", \"Matata\"))"
   ]
  },
  {
   "cell_type": "markdown",
   "metadata": {},
   "source": [
    "# End Part 1"
   ]
  }
 ],
 "metadata": {
  "kernelspec": {
   "display_name": "Python 3",
   "language": "python",
   "name": "python3"
  },
  "language_info": {
   "codemirror_mode": {
    "name": "ipython",
    "version": 3
   },
   "file_extension": ".py",
   "mimetype": "text/x-python",
   "name": "python",
   "nbconvert_exporter": "python",
   "pygments_lexer": "ipython3",
   "version": "3.7.4"
  }
 },
 "nbformat": 4,
 "nbformat_minor": 2
}
