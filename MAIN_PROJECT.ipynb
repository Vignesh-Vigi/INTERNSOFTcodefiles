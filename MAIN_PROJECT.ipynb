{
 "cells": [
  {
   "cell_type": "markdown",
   "metadata": {},
   "source": [
    "# Main Project"
   ]
  },
  {
   "cell_type": "markdown",
   "metadata": {},
   "source": [
    "### Importing Libraries."
   ]
  },
  {
   "cell_type": "code",
   "execution_count": 1,
   "metadata": {},
   "outputs": [],
   "source": [
    "import os \n",
    "import time\n",
    "import subprocess as sb\n",
    "import json\n",
    "\n",
    "import wolframalpha as wl\n",
    "import requests as re\n",
    "import webbrowser as wb\n",
    "import wikipedia as wk\n",
    "import datetime as dt\n",
    "\n",
    "import speech_recognition as sr\n",
    "import pyttsx3 as ptx\n"
   ]
  },
  {
   "cell_type": "code",
   "execution_count": 2,
   "metadata": {},
   "outputs": [
    {
     "name": "stdout",
     "output_type": "stream",
     "text": [
      "LOADING YOUR A.I PERSONAL ASSISTANT LION\n"
     ]
    }
   ],
   "source": [
    "print ('LOADING YOUR A.I PERSONAL ASSISTANT LION')"
   ]
  },
  {
   "cell_type": "code",
   "execution_count": 3,
   "metadata": {},
   "outputs": [],
   "source": [
    "engine = ptx.init('sapi5')\n",
    "voices = engine.getProperty('voices')\n",
    "engine.setProperty(\"voice\",'voices[0].id')"
   ]
  },
  {
   "cell_type": "code",
   "execution_count": 4,
   "metadata": {},
   "outputs": [],
   "source": [
    "def speak(text):\n",
    "    engine.say(text)\n",
    "    engine.runAndWait()"
   ]
  },
  {
   "cell_type": "code",
   "execution_count": 5,
   "metadata": {},
   "outputs": [],
   "source": [
    "def wishMe():\n",
    "    hour = dt.datetime.now().hour\n",
    "    if hour >= 0 and hour <= 12:\n",
    "        speak(\" Good Morning sir, its \" + str(hour) + \" A M\" )\n",
    "        print(\" Good Morning sir, its \" + str(hour) + \" A M\")\n",
    "    elif hour >= 12 and hour <=16:\n",
    "        speak(\"Good afternoon sir, its good to hear you\")\n",
    "        print(\"Good afternoon sir, its good to hear you\")\n",
    "    else:\n",
    "        speak(\"hello sir, what a pleasant evening\")\n",
    "        print(\"hello sir, what a pleasant evening\")\n",
    "        "
   ]
  },
  {
   "cell_type": "code",
   "execution_count": 6,
   "metadata": {},
   "outputs": [],
   "source": [
    "def takeCommand():\n",
    "    r = sr.Recognizer()\n",
    "    with sr.Microphone() as source:\n",
    "        print(\"I am listening.....\")\n",
    "        audio = r.listen(source)\n",
    "        \n",
    "        try:\n",
    "            statement = r.recognize_google(audio,language='en-in')\n",
    "            print(f\"user said:{statement}\\n\")\n",
    "            \n",
    "        except Exception as e:\n",
    "            speak(\"Sorry about that , can you come again\")\n",
    "            return \"None\"\n",
    "        return statement"
   ]
  },
  {
   "cell_type": "code",
   "execution_count": 7,
   "metadata": {},
   "outputs": [
    {
     "name": "stdout",
     "output_type": "stream",
     "text": [
      "hello sir, what a pleasant evening\n"
     ]
    }
   ],
   "source": [
    "speak(\"LOADING YOUR PERSONAL A I  ASSISTANT LION\")\n",
    "wishMe()"
   ]
  },
  {
   "cell_type": "code",
   "execution_count": 8,
   "metadata": {},
   "outputs": [
    {
     "name": "stdout",
     "output_type": "stream",
     "text": [
      "I am listening.....\n",
      "user said:Wikipedia\n",
      "\n",
      "The English Wikipedia is the English-language edition of the free online encyclopedia Wikipedia. Founded on 15 January 2001, it is the first edition of Wikipedia and, as of April 2019, has the most articles of any edition. As of September 2020, 11% of articles in all Wikipedias belong to the English-language edition.\n",
      "I am listening.....\n",
      "user said:open YouTube\n",
      "\n",
      "I am listening.....\n",
      "user said:open Google\n",
      "\n",
      "I am listening.....\n",
      "user said:open Gmail\n",
      "\n",
      "I am listening.....\n",
      "user said:open Facebook\n",
      "\n",
      "I am listening.....\n",
      "user said:time\n",
      "\n",
      "the time is19:14:49\n",
      "I am listening.....\n",
      "user said:who are you\n",
      "\n",
      "I am listening.....\n",
      "user said:who made you\n",
      "\n",
      "I was built by Mr.Vignesh in the year 2020\n",
      "I am listening.....\n",
      "user said:open Tak floor\n",
      "\n",
      "I am listening.....\n",
      "user said:news\n",
      "\n",
      "I am listening.....\n",
      "I am listening.....\n",
      "user said:search\n",
      "\n",
      "I am listening.....\n",
      "user said:ask\n",
      "\n",
      "I am listening.....\n",
      "user said:tan 45\n",
      "\n",
      "1\n",
      "I am listening.....\n",
      "user said:log off\n",
      "\n",
      "I am listening.....\n",
      "user said:goodbye\n",
      "\n",
      "Hope to meet you soon..goodbye\n"
     ]
    }
   ],
   "source": [
    "if __name__ == '__main__':\n",
    "    while True:\n",
    "        speak(\"How can i help you ?\")\n",
    "        statement = takeCommand().lower()\n",
    "        if statement == 0:\n",
    "            continue\n",
    "        if \"goodbye\" in statement or \"ok bye\" in statement or \"stop\" in statement:\n",
    "            speak(\"Hope to meet you soon..goodbye\")\n",
    "            print(\"Hope to meet you soon..goodbye\")\n",
    "            break\n",
    "            \n",
    "        if 'wikipedia' in statement:\n",
    "            speak(\"searching wikipedia....\")\n",
    "            statement = statement.replace(\"wikipedia\",\"https://www.wikipedia.org/\")\n",
    "            results = wk.summary(statement , sentences = 3)\n",
    "            speak(\"according to wikipedia.....\")\n",
    "            print(results)\n",
    "            speak(results)\n",
    "            \n",
    "        elif \"open youtube\" in statement:\n",
    "            speak(\"Opening Youtube for you\")\n",
    "            wb.open_new_tab(\"https://www.youtube.com/\")\n",
    "            time.sleep(5)\n",
    "            \n",
    "        elif \"open google\" in statement:\n",
    "            speak(\"Opening Google for you\")\n",
    "            wb.open_new_tab(\"https://www.google.com/\")\n",
    "            time.sleep(5)\n",
    "        \n",
    "        elif \"open gmail\" in statement:\n",
    "            speak(\"Opening Gmail for you\")\n",
    "            wb.open_new_tab(\"https://www.gmail.com\")\n",
    "            time.sleep(5)\n",
    "            \n",
    "        elif \"open facebook\" in statement:\n",
    "            speak(\"Opening Facebook for you\")\n",
    "            wb.open_new_tab(\"https://www.facebook.com/\")\n",
    "            time.sleep(5)\n",
    "            \n",
    "        elif \"weather\" in statement:\n",
    "            api_key = \"ef607739a3c63f27184ff71bf7c2e2b3\"\n",
    "            base_url = \"https://api.openweathermap.org/data/2.5/weather?\"\n",
    "            speak(\"whats the city name\")\n",
    "            city_name = takeCommand()\n",
    "            complete_url = base_url + \"appid = \" + api_key + \"&q=\" + city_name\n",
    "            response = re.get(complete_url)\n",
    "            x = response.json()\n",
    "            if x[\"cod\"] != \"404\":\n",
    "                y = x[\"main\"]\n",
    "                current_temperature = y[\"temp\"]\n",
    "                current_humidity = y[\"humidity\"]\n",
    "                z = x[\"weather\"]\n",
    "                weather_description = z[0][\"descripiton\"]\n",
    "                speak(\"the temperature in kelvin units is \" + str(current_temperature) +\"\\n humidity in percentage is\" + str(current_humidity)+\"\\n weather description\" + str( weather_descreption))\n",
    "                print(\"the temperature in kelvin units is \" + str(current_temperature) +\"\\n humidity in percentage is\" + str(current_humidity)+\"\\n weather description\" + str( weather_descreption))\n",
    "            else:\n",
    "                speak(\"city not found\")\n",
    "                print(\"city not found\")\n",
    "                \n",
    "        elif \"time\" in statement:\n",
    "            strTime = dt.datetime.now().strftime(\"%H:%M:%S\")\n",
    "            speak(\"the time is\" + str(strTime))\n",
    "            print(\"the time is\" + str(strTime))\n",
    "            \n",
    "        elif \"who are you\" in statement or \"what can you do\" in statement:\n",
    "            speak(\"I am LION , A personal A I assistant bluit by Mr.Vignesh\")\n",
    "            \n",
    "        elif \"who made you\" in statement or \"who created you\" in statement or \"who discovered you\" in statement:\n",
    "            speak(\"I was built by Mr.Vignesh in the year 2020\")\n",
    "            print(\"I was built by Mr.Vignesh in the year 2020\")\n",
    "            \n",
    "        elif \"open stack overflow\" in statement:\n",
    "            speak(\"Opening Stack overflow for you\")\n",
    "            wb.open_new_tab(\"https://stackoverflow.com/\")\n",
    "            time.sleep(5)\n",
    "            \n",
    "        elif \"news\" in statement:\n",
    "            news = wb.open_new_tab(\"https://timesofindia.indiatimes.com/home/headlines\")\n",
    "            speak(\"todays headlines from times of india\")\n",
    "            time.sleep(7)\n",
    "        \n",
    "        elif \"search\" in statement:\n",
    "            speak(\"Opening search for you\")\n",
    "            statement = statement.replace(\"search\",\" \")\n",
    "            wb.open_new_tab(\"statement\")\n",
    "            time.sleep(5)\n",
    "            \n",
    "        elif \"ask\" in statement:\n",
    "            speak(\"I can answer to computauional and geographical questions too ,just try me!! what do you want to ask\")\n",
    "            question = takeCommand()\n",
    "            app_id=\"R2K75H-7ELALHR35X\"\n",
    "            client = wl.Client('R2K75H-7ELALHR35X')\n",
    "            res = client.query(question)\n",
    "            answer = next(res.results).text\n",
    "            speak(answer)\n",
    "            print(answer)\n",
    "            \n",
    "        elif \"log off\" in statement or \"sign out\" in statement or \"shut down\" in statement:\n",
    "            speak(\"ok , Your PC will shut down in 10 seconds\")\n",
    "            sb.call(['shutdown',\"\\1\"])\n",
    "            \n",
    "time.sleep(5)     "
   ]
  },
  {
   "cell_type": "markdown",
   "metadata": {},
   "source": [
    "# The End"
   ]
  },
  {
   "cell_type": "markdown",
   "metadata": {},
   "source": [
    "# Thank You"
   ]
  },
  {
   "cell_type": "code",
   "execution_count": null,
   "metadata": {},
   "outputs": [],
   "source": []
  }
 ],
 "metadata": {
  "kernelspec": {
   "display_name": "Python 3",
   "language": "python",
   "name": "python3"
  },
  "language_info": {
   "codemirror_mode": {
    "name": "ipython",
    "version": 3
   },
   "file_extension": ".py",
   "mimetype": "text/x-python",
   "name": "python",
   "nbconvert_exporter": "python",
   "pygments_lexer": "ipython3",
   "version": "3.7.4"
  }
 },
 "nbformat": 4,
 "nbformat_minor": 2
}
